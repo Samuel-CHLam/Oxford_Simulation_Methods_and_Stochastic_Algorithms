{
 "cells": [
  {
   "cell_type": "markdown",
   "metadata": {},
   "source": [
    "# Problem Sheet 1.1 - Getting started with simulation! (Python Version)\n",
    "\n",
    "The purpose of this practical is just to get used to random number generation within your preferred language, and try out a few basic things from lectures 1-4. This notebook is written specifically for Python.\n",
    "\n",
    "Please work on this as a group of 3 or 4 , and hand in an archive file (`.tar` or `.zip`) with i) your code(s), ii) your results as a PDF file with comments on anything you think is interesting."
   ]
  },
  {
   "cell_type": "code",
   "execution_count": 32,
   "metadata": {},
   "outputs": [],
   "source": [
    "import numpy as np\n",
    "import matplotlib.pyplot as plt\n",
    "import time\n",
    "from tqdm import tqdm\n",
    "%matplotlib inline"
   ]
  },
  {
   "cell_type": "markdown",
   "metadata": {},
   "source": [
    "\n",
    "**Part (a):** Generate $10^{6}$ uniformly distributed variables on the unit interval $[0,1]$, and check that they have the expected mean and variance. Repeat for $10^{6}$ unit Normal random variables.\n",
    "\n",
    "Notes: \n",
    "- in python, you can use `rand`, `randn` from `numpy.random`.\n",
    "- recall that a uniformly distributed variables over $[0,1]$ has mean $1/2 = 0.5$ and variance $1/12 \\approx 0.833$, while a unit normal random variables have mean $0$ and variance $1$."
   ]
  },
  {
   "cell_type": "code",
   "execution_count": 2,
   "metadata": {},
   "outputs": [
    {
     "name": "stdout",
     "output_type": "stream",
     "text": [
      "mean = 0.5004307864728101, variance = 0.08330550520865264\n"
     ]
    }
   ],
   "source": [
    "# For uniform distribution\n",
    "my_sample = np.random.rand(10**6)\n",
    "print(f\"mean = {my_sample.mean()}, variance = {my_sample.var()}\")"
   ]
  },
  {
   "cell_type": "code",
   "execution_count": 3,
   "metadata": {},
   "outputs": [
    {
     "name": "stdout",
     "output_type": "stream",
     "text": [
      "mean = 0.0014654049716239137, variance = 0.9997583426528015\n"
     ]
    }
   ],
   "source": [
    "# For normal distribution\n",
    "my_sample = np.random.randn(10**6)\n",
    "print(f\"mean = {my_sample.mean()}, variance = {my_sample.var()}\")"
   ]
  },
  {
   "cell_type": "markdown",
   "metadata": {},
   "source": [
    "**Part (b):** Given a covariance matrix\n",
    "$$\n",
    "\\Sigma=\\left(\\begin{array}{ll}\n",
    "4 & 1 \\\\\n",
    "1 & 4\n",
    "\\end{array}\\right)\n",
    "$$\n",
    "\n",
    "perform a Cholesky factorisation to obtain a lower-triangular matrix $L$ such that\n",
    "\n",
    "$$\n",
    "\\Sigma=L L^\\top\n",
    "$$\n",
    "\n",
    "Use this matrix $L$ to convert $2 \\times 10^{6}$ independent unit Normals into $10^{6}$ pairs of Normals with the desired covariance. Check that they have the expected mean and covariance.\n",
    "\n",
    "Notes: \n",
    "- in python there is a function `cholesky` in `numpy.linalg`.\n",
    "- recall if $Z$ has distribution $\\mathsf{N}(0,I^{(2)})$, then $X = LZ$ will have distribution $\\mathsf{N}(0,\\Sigma)$ as desired.\n",
    "- recall summing along `axis=0` means summing along columns, while summing along `axis=1` means summing along rows."
   ]
  },
  {
   "cell_type": "code",
   "execution_count": 4,
   "metadata": {},
   "outputs": [
    {
     "name": "stdout",
     "output_type": "stream",
     "text": [
      "[[2.         0.        ]\n",
      " [0.5        1.93649167]]\n"
     ]
    }
   ],
   "source": [
    "# Getting Cholesky factorisation of Sigma\n",
    "Sigma = np.array([[4,1],[1,4]])\n",
    "L = np.linalg.cholesky(Sigma)\n",
    "print(L)"
   ]
  },
  {
   "cell_type": "code",
   "execution_count": 15,
   "metadata": {},
   "outputs": [],
   "source": [
    "# Drawing simulations from the desired normal distribution $\\mathsf{N}(0,\\Sigma)$. Here \n",
    "Z_arr = np.random.randn(2, 10**6)\n",
    "X_arr = L @ Z_arr"
   ]
  },
  {
   "cell_type": "code",
   "execution_count": 26,
   "metadata": {},
   "outputs": [
    {
     "name": "stdout",
     "output_type": "stream",
     "text": [
      "mean = [-0.00170408 -0.00158937], \n",
      " variances = [3.99878293 3.99952829], \n",
      " covariance = 1.0043445938499123\n"
     ]
    }
   ],
   "source": [
    "# Getting mean (= 0), variances (=4) and covariance (=1).\n",
    "samp_mean = np.mean(X_arr, axis=1)\n",
    "samp_var = np.var(X_arr, axis=1)\n",
    "covariance = np.mean(X_arr[0] * X_arr[1])\n",
    "print(f\"mean = {samp_mean}, \\n variances = {samp_var}, \\n covariance = {covariance}\")"
   ]
  },
  {
   "cell_type": "markdown",
   "metadata": {},
   "source": [
    "**Part (c):** Repeat the previous item using the PCA factorisation of $\\Sigma$.\n",
    "\n",
    "Notes: in python there is a function `eig` in `numpy.linalg`."
   ]
  },
  {
   "cell_type": "code",
   "execution_count": 23,
   "metadata": {},
   "outputs": [
    {
     "name": "stdout",
     "output_type": "stream",
     "text": [
      "[[ 1.58113883 -1.22474487]\n",
      " [ 1.58113883  1.22474487]]\n"
     ]
    }
   ],
   "source": [
    "# Getting eigenvalue (PCA) factorisation of Sigma\n",
    "Sigma = np.array([[4,1],[1,4]])\n",
    "w,v = np.linalg.eig(Sigma)\n",
    "L = v @ np.diag(np.sqrt(w))\n",
    "print(L)"
   ]
  },
  {
   "cell_type": "code",
   "execution_count": 25,
   "metadata": {},
   "outputs": [],
   "source": [
    "# Drawing simulations from the desired normal distribution $\\mathsf{N}(0,\\Sigma)$. Here \n",
    "Z_arr = np.random.randn(2, 10**6)\n",
    "X_arr = L @ Z_arr"
   ]
  },
  {
   "cell_type": "code",
   "execution_count": 27,
   "metadata": {},
   "outputs": [
    {
     "name": "stdout",
     "output_type": "stream",
     "text": [
      "mean = [-0.00170408 -0.00158937], \n",
      " variances = [3.998782928686044, 3.999528287644133], \n",
      " covariance = 1.0043445938499123\n"
     ]
    }
   ],
   "source": [
    "# Getting mean (= 0), variances (=4) and covariance (=1).\n",
    "samp_mean = np.mean(X_arr, axis=1)\n",
    "samp_var = np.var(X_arr, axis=1)\n",
    "covariance = np.mean(X_arr[0] * X_arr[1])\n",
    "print(f\"mean = {samp_mean}, \\n variances = {[samp_var[0], samp_var[1]]}, \\n covariance = {covariance}\")"
   ]
  },
  {
   "cell_type": "markdown",
   "metadata": {},
   "source": [
    "**Part (d):** Repeat to see how many pairs you can generated in 1 minute.\n",
    "\n",
    "Note: \n",
    "- here we use a lazy method: to compute the different computing times for generating different sizes of samples, and estimate the rate."
   ]
  },
  {
   "cell_type": "code",
   "execution_count": 41,
   "metadata": {},
   "outputs": [
    {
     "name": "stderr",
     "output_type": "stream",
     "text": [
      "100%|██████████| 5/5 [00:00<00:00, 11.00it/s]\n",
      "100%|██████████| 5/5 [00:03<00:00,  1.25it/s]\n",
      "100%|██████████| 5/5 [00:30<00:00,  6.04s/it]\n"
     ]
    }
   ],
   "source": [
    "chol_duration_mean_arr = []\n",
    "chol_duration_std_arr = []\n",
    "pca_duration_mean_arr = []\n",
    "pca_duration_std_arr = []\n",
    "\n",
    "for i in range(6,9):\n",
    "    chol_duration_i_arr = []\n",
    "    pca_duration_i_arr = []\n",
    "\n",
    "    Sigma = np.array([[4,1],[1,4]])\n",
    "    L1 = np.linalg.cholesky(Sigma)\n",
    "    w,v = np.linalg.eig(Sigma)\n",
    "    L2 = v @ np.diag(np.sqrt(w))\n",
    "    \n",
    "    for samples in tqdm(range(5)):\n",
    "        start_time_1 = time.time()\n",
    "        Z_arr = np.random.randn(2, 10**i)\n",
    "        X_arr = L1 @ Z_arr\n",
    "        end_time_1 = time.time()\n",
    "        chol_duration_i_arr.append(end_time_1 - start_time_1)\n",
    "\n",
    "        start_time_2 = time.time()\n",
    "        Z_arr = np.random.randn(2, 10**i)\n",
    "        X_arr = L2 @ Z_arr\n",
    "        end_time_2 = time.time()\n",
    "        pca_duration_i_arr.append(end_time_2 - start_time_2)\n",
    "\n",
    "    chol_duration_i = np.array(chol_duration_i_arr)\n",
    "    pca_duration_i = np.array(pca_duration_i_arr)\n",
    "    chol_duration_mean_arr.append(chol_duration_i.mean())\n",
    "    chol_duration_std_arr.append(chol_duration_i.std())\n",
    "    pca_duration_mean_arr.append(pca_duration_i.mean())\n",
    "    pca_duration_std_arr.append(pca_duration_i.std())\n",
    "        "
   ]
  },
  {
   "cell_type": "code",
   "execution_count": 42,
   "metadata": {},
   "outputs": [
    {
     "data": {
      "text/plain": [
       "[0.05000104904174805, 0.3966504096984863, 2.9725918769836426]"
      ]
     },
     "execution_count": 42,
     "metadata": {},
     "output_type": "execute_result"
    }
   ],
   "source": [
    "chol_duration_mean_arr "
   ]
  },
  {
   "cell_type": "code",
   "execution_count": 44,
   "metadata": {},
   "outputs": [
    {
     "data": {
      "text/plain": [
       "[0.011633677664875419, 0.01820892649982267, 0.005640425168723844]"
      ]
     },
     "execution_count": 44,
     "metadata": {},
     "output_type": "execute_result"
    }
   ],
   "source": [
    "chol_duration_std_arr"
   ]
  },
  {
   "cell_type": "code",
   "execution_count": 43,
   "metadata": {},
   "outputs": [
    {
     "data": {
      "text/plain": [
       "[0.03998003005981445, 0.40026149749755857, 3.0676573753356933]"
      ]
     },
     "execution_count": 43,
     "metadata": {},
     "output_type": "execute_result"
    }
   ],
   "source": [
    "pca_duration_mean_arr"
   ]
  },
  {
   "cell_type": "code",
   "execution_count": 45,
   "metadata": {},
   "outputs": [
    {
     "data": {
      "text/plain": [
       "[0.003647984293315954, 0.01609559946249033, 0.174525150481134]"
      ]
     },
     "execution_count": 45,
     "metadata": {},
     "output_type": "execute_result"
    }
   ],
   "source": [
    "pca_duration_std_arr"
   ]
  },
  {
   "cell_type": "markdown",
   "metadata": {},
   "source": [
    "TODO: Discussions with number of samples needed!"
   ]
  }
 ],
 "metadata": {
  "kernelspec": {
   "display_name": "Python 3.9.6 64-bit",
   "language": "python",
   "name": "python3"
  },
  "language_info": {
   "codemirror_mode": {
    "name": "ipython",
    "version": 3
   },
   "file_extension": ".py",
   "mimetype": "text/x-python",
   "name": "python",
   "nbconvert_exporter": "python",
   "pygments_lexer": "ipython3",
   "version": "3.9.6"
  },
  "orig_nbformat": 4,
  "vscode": {
   "interpreter": {
    "hash": "31f2aee4e71d21fbe5cf8b01ff0e069b9275f58929596ceb00d14d90e3e16cd6"
   }
  }
 },
 "nbformat": 4,
 "nbformat_minor": 2
}
