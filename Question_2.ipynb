{
  "cells": [
    {
      "cell_type": "markdown",
      "metadata": {
        "colab_type": "text",
        "id": "view-in-github"
      },
      "source": [
        "<a href=\"https://colab.research.google.com/github/Samuel-CHLam/Oxford_Simulation_Methods_and_Stochastic_Algorithms/blob/main/Question_2.ipynb\" target=\"_parent\"><img src=\"https://colab.research.google.com/assets/colab-badge.svg\" alt=\"Open In Colab\"/></a>"
      ]
    },
    {
      "cell_type": "markdown",
      "metadata": {
        "id": "vHJuPBVV6gAO"
      },
      "source": [
        "# Question 2 (by Olivia Pricilia)\n",
        "\n",
        "Now consider a European call option in which the final value of the underlying is \n",
        "\n",
        "$S(T)=S(0) exp((r−0.5σ^2)T+σW(T))$\n",
        "\n",
        "where\n",
        "\n",
        "$W(T)= \\sqrt{T}X= \\sqrt{T} \\Phi^{-1}(U)$\n",
        "\n",
        "with X being a unit Normal, or U a uniform (0, 1) random variable.\n",
        "\n",
        "The payoff function is:\n",
        "\n",
        "$f(S) = exp(−rT) (S(T) − K)^{+}$\n",
        "\n",
        "and the constants are r = 0.05, σ = 0.2, S(0) = 100, K = 100.\n",
        "\n",
        "The analytic value is given by the routine european call available from the course webpage; read its header to see how to call it.\n",
        "(There is no need to compute the analytic variance as in part a) in the previous question; just use the unbiased estimator.)\n",
        "\n",
        "Investigate the following forms of variance reduction:\n",
        "\n",
        "\n",
        "\n"
      ]
    },
    {
      "cell_type": "markdown",
      "metadata": {
        "id": "u-mH-EVY6q3C"
      },
      "source": [
        "### Import European_Call Function from webpage"
      ]
    },
    {
      "cell_type": "code",
      "execution_count": 1,
      "metadata": {
        "id": "sTu8n4Rt6fdH"
      },
      "outputs": [],
      "source": [
        "import numpy as np\n",
        "\n",
        "from numpy       import pi, sqrt, log, exp\n",
        "from scipy.stats import norm\n",
        "\n",
        "#\n",
        "# Normal cumulative distribution function, with extension\n",
        "# for complex argument with small imaginary component\n",
        "#\n",
        "\n",
        "def norm_cdf(x):\n",
        "    if not isinstance(x, np.ndarray):\n",
        "        xr = x.real\n",
        "        xi = x.imag\n",
        "        if abs(xi) > 1.0e-10:\n",
        "            raise ValueError('imag(x) too large in norm_cdf(x)')\n",
        "\n",
        "        ncf = norm.cdf(xr)\n",
        "        if abs(xi) > 0:\n",
        "            ncf = ncf + 1.0j*xi*norm.pdf(xr)\n",
        "    else:\n",
        "        xr = np.real(x)\n",
        "        xi = np.imag(x)\n",
        "        if any(abs(xi) > 1.0e-10):\n",
        "            raise ValueError('imag(x) too large in norm_cdf(x)')\n",
        "\n",
        "        ncf = norm.cdf(xr)\n",
        "        if any(abs(xi) > 0):\n",
        "            ncf = ncf + 1.0j*xi*norm.pdf(xr)\n",
        "\n",
        "    return ncf\n",
        "\n",
        "# V = european_call(r,sigma,T,S,K,opt)\n",
        "#\n",
        "# Black-Scholes European call option solution\n",
        "# as defined in equation (3.17) on page 48 of \n",
        "# The Mathematics of Financial Derivatives\n",
        "# by Wilmott, Howison and Dewynne\n",
        "#\n",
        "# r     - interest rate\n",
        "# sigma - volatility\n",
        "# T     - time interval\n",
        "# S     - asset value(s)  (float or flattened numpy array)\n",
        "# K     - strike price(s) (float or flattened numpy array)\n",
        "# opt   - 'value', 'delta', 'gamma' or 'vega'\n",
        "# V     - option value(s) (float or flattened numpy array)\n",
        "#\n",
        "\n",
        "def european_call(r,sigma,T,S,K,opt):\n",
        "\n",
        "    S  = S + 1.0e-100     # avoids problems with S=0\n",
        "    K  = K + 1.0e-100     # avoids problems with K=0\n",
        "\n",
        "    d1 = ( log(S) - log(K) + (r+0.5*sigma**2)*T ) / (sigma*sqrt(T))\n",
        "    d2 = ( log(S) - log(K) + (r-0.5*sigma**2)*T ) / (sigma*sqrt(T))\n",
        "\n",
        "    if opt == 'value':\n",
        "        V = S*norm_cdf(d1) - exp(-r*T)*K*norm_cdf(d2)\n",
        "    elif opt == 'delta':\n",
        "        V = norm_cdf(d1)\n",
        "    elif opt == 'gamma':\n",
        "        V = exp(-0.5*d1**2) / (sigma*sqrt(2*pi*T)*S)\n",
        "    elif opt == 'vega':\n",
        "        V =             S*(exp(-0.5*d1**2)/sqrt(2*pi))*( sqrt(T)-d1/sigma) \\\n",
        "            - exp(-r*T)*K*(exp(-0.5*d2**2)/sqrt(2*pi))*(-sqrt(T)-d2/sigma)\n",
        "\n",
        "    else:\n",
        "        raise ValueError('invalid value for opt -- must be \"value\", \"delta\", \"gamma\", \"vega\"')\n",
        "\n",
        "    return V\n"
      ]
    },
    {
      "cell_type": "code",
      "execution_count": 2,
      "metadata": {
        "colab": {
          "base_uri": "https://localhost:8080/"
        },
        "id": "CDhe9xbo6koG",
        "outputId": "ba70ca28-b95d-4834-aba4-3e12582e5d85"
      },
      "outputs": [
        {
          "data": {
            "text/plain": [
              "2.718281828459045"
            ]
          },
          "execution_count": 2,
          "metadata": {},
          "output_type": "execute_result"
        }
      ],
      "source": [
        "np.exp(1)"
      ]
    },
    {
      "cell_type": "markdown",
      "metadata": {
        "id": "lqC_n9W58fph"
      },
      "source": [
        "##2 a. \n",
        "First, try antithetic variables using $\\frac{1}{2} (f (W ) + f (−W ))$ where W is the value of the underlying Brownian motion at maturity.\n",
        "What is the estimated correlation between $f(W)$ and $f(−W)$? How much variance reduction does this give?\n",
        "\n",
        "\n",
        "**Answer:**\n",
        "\n",
        "Correlation of f(W) and f(-W) is -0.5011364822986971 (i.e. around 0.50). \n",
        "And using the anthtetic variables results in the variance reduction to around 25% of the original variance\n",
        "(i.e. 0.24943175885065147). (See the code cell below for details)\n"
      ]
    },
    {
      "cell_type": "code",
      "execution_count": 3,
      "metadata": {
        "colab": {
          "base_uri": "https://localhost:8080/"
        },
        "id": "Pq0Q7V8Q8rMT",
        "outputId": "eecbf788-0313-44ca-a03f-85d067a4175c"
      },
      "outputs": [
        {
          "name": "stdout",
          "output_type": "stream",
          "text": [
            "correlation of f(W) and f(-W) is -0.501536094707017\n",
            "variance reduction is 0.24923195264649153\n"
          ]
        }
      ],
      "source": [
        "from IPython.core.display import set_matplotlib_close\n",
        "import numpy as np\n",
        "import math \n",
        "\n",
        "#General input:\n",
        "\n",
        "r = 0.05\n",
        "sigma = 0.2\n",
        "S0 = 100.0\n",
        "K = 100.0\n",
        "T=1.0\n",
        "N = 10**6 #as in Q1\n",
        "\n",
        "#U = np.random.uniform(0.0,1.0,N)  # U ~ Unif(0,1), X~N(0,1)\n",
        "\n",
        "#european_call(r=r,sigma=sigma,T=T,S=S0,K=K,opt='value') \n",
        "#price of european call option\n",
        "  \n",
        "X =np.random.randn(N,1)\n",
        "WT = sqrt(T)*X #np.random.randn(N,1) #W(T) = sqrt(T)*X = sqrt(T)*inverse_cdf(U)\n",
        "\n",
        "#final price and payoff\n",
        "def S_T(S0, r, sigma, T, WT):\n",
        "  return S0 * np.exp((r-0.5*(sigma**2))*T + sigma * WT)\n",
        "\n",
        "def f_ST(r, T, ST, K):\n",
        "  return np.exp(-r*T)*np.maximum(0.0, ST - K)\n",
        "\n",
        "ST_pos= S_T(S0, r, sigma, T, WT)\n",
        "ST_neg = S_T(S0, r, sigma, T, -WT)\n",
        "\n",
        "fS_pos = f_ST(r, T, ST_pos, K) #f(W)\n",
        "fS_neg = f_ST(r, T, ST_neg, K) #f(-W)\n",
        "\n",
        "\n",
        "##########antithetic variables\n",
        "fS_mean = np.sum(fS_pos + fS_neg)/(2.0*N)\n",
        "\n",
        "\n",
        "#correlation of f(W) and f(-W):\n",
        "#var(f(W))= var(f(-W)) \n",
        "var0 = np.sum(fS_pos**2 + fS_neg**2)/(2.0*N) - fS_mean**2\n",
        "cov0 = np.sum((fS_pos -fS_mean)*(fS_neg - fS_mean))/(N)\n",
        "cor0 = cov0/var0\n",
        "print('correlation of f(W) and f(-W) is {}'.format(cor0))\n",
        "\n",
        "### variance reduction\n",
        "var_new = 0.5*(var0 + cov0)\n",
        "var_pct = var_new / var0\n",
        "print('variance reduction is {}'.format(var_pct))\n",
        "\n"
      ]
    },
    {
      "cell_type": "markdown",
      "metadata": {
        "id": "81oGvsmuQh0p"
      },
      "source": [
        "\n",
        "## 2 b.\n",
        "\n",
        "Second, try using $exp(−rT)S(T)$ as a control variate, noting that its expected value is $S(0)$.\n",
        "Again, how much variance reduction does this give?\n",
        "\n",
        "\n",
        "**Answer**:\n",
        "\n",
        "Using control variates specified, we calculate the correlation of f (original payoff) and g (control variates), by first calculating their covariances and variances. Then, we calculate the new variance, which is:\n",
        "$\\frac{VAR(f)}{N} * (1- corr(f,g)^2)$\n",
        "\n",
        "the resulting variance becomes 14.5% (i.e. 0.14502356901851332) of the original variance (see below for the code).\n"
      ]
    },
    {
      "cell_type": "code",
      "execution_count": 4,
      "metadata": {
        "colab": {
          "base_uri": "https://localhost:8080/"
        },
        "id": "aJI_3UXCQMv6",
        "outputId": "cf112198-ea80-4860-ddfd-236ba34a0539"
      },
      "outputs": [
        {
          "name": "stdout",
          "output_type": "stream",
          "text": [
            "variance reduction is 0.14527567048979928\n"
          ]
        }
      ],
      "source": [
        "#control variates: (note we re-use some variables in 2a)\n",
        "gS = np.exp(-r*T)*ST_pos \n",
        "\n",
        "fS_mcmean = np.sum(fS_pos)/N\n",
        "gS_mcmean = np.sum(gS)/N\n",
        "gS_exp = S0\n",
        "\n",
        "#calculate optimum value of lambda\n",
        "cov_fg = np.sum((fS_pos-fS_mcmean)*(gS-gS_mcmean))/N\n",
        "var_f = np.sum((fS_pos-fS_mcmean)**2)/N \n",
        "var_g = np.sum((gS-gS_mcmean)**2)/N \n",
        "corr_fg = cov_fg/(np.sqrt(var_f*var_g))\n",
        "\n",
        "var_fg_new = var_f  * (1.- corr_fg**2)\n",
        "var_fg_pct = var_fg_new / var_f\n",
        "\n",
        "\n",
        "print('variance reduction is {}'.format(var_fg_pct))\n",
        "\n",
        "\n",
        "#define new estimator\n",
        "k = cov_fg / var_g\n",
        "fS_hat = fS_mcmean - k*(gS_mcmean - S0)\n"
      ]
    },
    {
      "cell_type": "markdown",
      "metadata": {
        "id": "7VgUW7S8W1de"
      },
      "source": [
        "## 2. c. \n",
        "\n",
        "For the case of a digital put option,\n",
        "$P =exp(−rT)H(K−S(T))$\n",
        "\n",
        "where $H(x)$ is the Heaviside step function, with parameters r = 0.05, σ = 0.2, T = 1, S(0) = 100 ,K = 50, investigate the use of importance sampling:"
      ]
    },
    {
      "cell_type": "markdown",
      "metadata": {
        "id": "IvwyPXv7XFWI"
      },
      "source": [
        "### 2 c. i.\n",
        "\n",
        "First, estimate the value without importance sampling.\n",
        "How many samples are needed to obtain a value which is correct to within 10%? (i.e. the 3 standard deviation confidence limit corresponds to ± 10%).\n",
        "\n",
        "\n",
        "**Answer:**\n",
        "\n",
        "First we calculate the mean $P_{mcmean}$ and variance $var_P$of digital Put.\n",
        "\n",
        "We want 3 std.dev confidence limit corresponds to +/- 10%, thus we want:\n",
        "$3* \\sigma_{P} / \\sqrt{N_{solve}} = 0.1*P_{mcmean} $\n",
        "\n",
        "\n",
        "Hence, solving for N_solve, we need 6205997 samples (rounding up from 6205996.551724128)"
      ]
    },
    {
      "cell_type": "code",
      "execution_count": 5,
      "metadata": {
        "colab": {
          "base_uri": "https://localhost:8080/"
        },
        "id": "k1LBi2RdXEs-",
        "outputId": "edb2cfb5-cd86-4883-ee57-2c571c5d49f7"
      },
      "outputs": [
        {
          "name": "stdout",
          "output_type": "stream",
          "text": [
            "Number of samples needed : 5805551.612903213\n"
          ]
        }
      ],
      "source": [
        "\n",
        "#payoff for digital put:\n",
        "r     = 0.05\n",
        "sigma = 0.2\n",
        "T     = 1.0\n",
        "K     = 50.0\n",
        "S0    = 100.0\n",
        "\n",
        "ST = S_T(S0, r, sigma, T, WT)\n",
        "\n",
        "\n",
        "P = exp(-r*T)*(1.+ np.sign(K-ST))/2.0 #rewrite Heavyside function \n",
        "P_mcmean = np.sum(P) /N\n",
        "var_P = np.sum(P**2)/N - (P_mcmean)**2 \n",
        "\n",
        "#we want 3 std.dev confidence limit corresponds to +/- 10%\n",
        "# thus we want  3* std.dev(P) / sqrt(N_solve) = 0.1*P_mcmean \n",
        "N_solve = (3.*np.sqrt(var_P)/ (0.1*P_mcmean) )**2\n",
        "\n",
        "\n",
        "print('Number of samples needed : {}'.format(N_solve))"
      ]
    },
    {
      "cell_type": "markdown",
      "metadata": {
        "id": "lzmnr4oMuA7V"
      },
      "source": [
        "### 2.c.ii.\n",
        "\n",
        "Second, try using importance sampling, adjusting the drift\n",
        "(i.e. changing the $(r−0.5σ^{2})T)$ term to a different constant) so that half of the samples are below the strike K, and the other half are above. Now how many samples are required to get the value correct to within 10%?\n",
        "\n",
        "\n",
        "**Answer:***\n",
        "\n",
        "With drift $\\mu_{old} = (r−0.5σ^{2})T$, we have $S(T)=S(0) exp((r−0.5σ^2)T+σW(T))$ and so, $\\log (\\frac{S(T)}{S(0)})$ ~ $N( \\mu_{old} , \\sigma^{2} {T})$. \n",
        "\n",
        "Now, we want half of the samples of S(T) are below the strike K and the other half are above, hence this translates to median of S(T) is K, and so (since mean = median for normally distributed random variable), we can deduce that $\\log (\\frac{S(T)}{S(0)})$ has adjusted drift (mean) of $\\mu_{new} = \\log(\\frac{K}{S(0)})$ .\n",
        "\n",
        "\n",
        "Now, the Radon Nikodym Derivatives is:\n",
        "$R(x) =  \\frac{p_{old}(x)}{p_{new}(x)}$ , where $p_{old}(x), p_{new}(x)$ are the p.d.f. of lognormal distribution with drift $\\mu_{old}, \\mu_{new}$ respectively, and is given by:\n",
        "\n",
        "$p_{old}(x) = \\frac{1}{x (\\sigma \\sqrt{T}) \\sqrt{2 \\pi}} exp(- \\frac{(ln(x) - \\mu_{old} )^2}{2 \\sigma^{2} T}) $ and $p_{new}(x) = \\frac{1}{x (\\sigma \\sqrt{T}) \\sqrt{2 \\pi}} exp(- \\frac{(ln(x) - \\mu_{new} )^2}{2 \\sigma^{2} T})$ \n",
        "\n",
        "Hence, (taking $x = S(T)/S(0) = exp(\\mu_{old} + \\sigma W(T))$)\n",
        "\n",
        "$R(x) = exp(- \\frac{ 2 \\ln(x) ( \\mu_{new} - \\mu_{old} ) + ( \\mu^{2}_{old} - \\mu^{2}_{new} )}{2 \\sigma^{2} T})= exp(- \\frac{ (2 (\\mu_{new} + \\sigma W(T)) - \\mu_{new} -\\mu_{old} )  ( \\mu_{new} - \\mu_{old} ) }{2 \\sigma^{2} T}) = exp(- \\frac{ ( \\mu_{new} -\\mu_{old} +2 \\sigma W(T)) )  ( \\mu_{new} - \\mu_{old} ) }{2 \\sigma^{2} T})$\n",
        "\n",
        "Now, calculate the value of Monte-Carlo Mean ($PR_{mcmean}$) of Payoff P with new drift of S and multiply by Radon-Nikodym Derivatives R, and also its variance $var_{PR}$.\n",
        "\n",
        "\n",
        "As before, we want 3 std.dev confidence limit corresponds to +/- 10%, thus we want:\n",
        "$3* \\sigma_{PR} / \\sqrt{N_{newsolve}} = 0.1*PR_{mcmean} $\n",
        "\n",
        "\n",
        "Hence, solving for $N_{newsolve}$, we need 3672 samples (rounding up from 3671.1034603785765), which is only 0.06% of the number of samples needed without using importance of sampling (as in 2c (i))."
      ]
    },
    {
      "cell_type": "code",
      "execution_count": 6,
      "metadata": {
        "colab": {
          "base_uri": "https://localhost:8080/"
        },
        "id": "JYOPKSuEuQge",
        "outputId": "8586f6b1-95e4-4499-80fa-26815f25cbae"
      },
      "outputs": [
        {
          "name": "stdout",
          "output_type": "stream",
          "text": [
            "Number of samples needed : 3659.0553996907356\n"
          ]
        }
      ],
      "source": [
        "# Note that since S follow log-normal distribution, we need to change the drift to log(K/S0)= log(1/2) so that it's \n",
        "\n",
        "drift_new = log(K /S0)\n",
        "drift_old = (r- 0.5* sigma*sigma)*T\n",
        "\n",
        "#R(x) = p_old(x)/ p_new(x) = exp() radon nikodym derivatives\n",
        "\n",
        "R = exp(-(drift_new-drift_old + 2.*sigma*WT)*(drift_new - drift_old)/ (2.0 * sigma * sigma *T))\n",
        "\n",
        "#S(T) with new drift log(K/S0)\n",
        "ST_new = K * exp(sigma * WT)\n",
        "\n",
        "#Payoff P with new drift of S and multiply by Radon-Nikodym Derivatives R:\n",
        "PR_new = exp(-r*T)*(1.+ np.sign(K-ST_new))/2.0 * R\n",
        "\n",
        "PR_new_mcmean = np.sum(PR_new) /N\n",
        "var_PR_new = np.sum(PR_new**2)/N - (PR_new_mcmean)**2 \n",
        "\n",
        "#we want 3 std.dev confidence limit corresponds to +/- 10%\n",
        "# thus we want  3* std.dev(P_new) / sqrt(N_new_solve) = 0.1*P_new_mcmean \n",
        "N_new_solve = (3.*np.sqrt(var_PR_new)/ (0.1*PR_new_mcmean) )**2\n",
        "\n",
        "\n",
        "print('Number of samples needed : {}'.format(N_new_solve))"
      ]
    }
  ],
  "metadata": {
    "colab": {
      "include_colab_link": true,
      "provenance": []
    },
    "kernelspec": {
      "display_name": "Python 3",
      "name": "python3"
    },
    "language_info": {
      "name": "python"
    }
  },
  "nbformat": 4,
  "nbformat_minor": 0
}
